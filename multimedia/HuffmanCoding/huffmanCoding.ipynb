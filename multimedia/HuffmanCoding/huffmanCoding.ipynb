{
 "cells": [
  {
   "cell_type": "code",
   "execution_count": 33,
   "metadata": {},
   "outputs": [],
   "source": [
    "from queue import PriorityQueue"
   ]
  },
  {
   "cell_type": "code",
   "execution_count": 34,
   "metadata": {},
   "outputs": [],
   "source": [
    "file = open(\"input.txt\").read()"
   ]
  },
  {
   "cell_type": "code",
   "execution_count": 35,
   "metadata": {},
   "outputs": [],
   "source": [
    "class Node:\n",
    "    def __init__(self,freq,char,left=None,right=None):\n",
    "        self.freq = freq\n",
    "        self.char = char\n",
    "        self.left = left\n",
    "        self.right = right\n",
    "\n",
    "    def __lt__(self,next):\n",
    "        return self.freq<next.freq\n",
    "        \n"
   ]
  },
  {
   "cell_type": "code",
   "execution_count": 36,
   "metadata": {},
   "outputs": [
    {
     "name": "stdout",
     "output_type": "stream",
     "text": [
      "2 a    2 b\n",
      "3 c    4 ?\n",
      "7 ?    16 d\n"
     ]
    }
   ],
   "source": [
    "def huffmanTree(text):\n",
    "    mp = dict()\n",
    "    for char in text:\n",
    "        if not mp.get(char): mp[char] = 0\n",
    "        mp[char]+=1\n",
    "    \n",
    "    pq = PriorityQueue()\n",
    "\n",
    "    for key,val in mp.items():\n",
    "        pq.put(Node(val,key))\n",
    "\n",
    "    while pq.qsize()>1:\n",
    "        tem1 = pq.get()\n",
    "        tem2 = pq.get()\n",
    "        newNode = Node(tem1.freq+tem2.freq,'?',tem1,tem2)\n",
    "        pq.put(newNode)\n",
    "        print(tem1.freq,tem1.char,\"  \",tem2.freq,tem2.char)\n",
    "\n",
    "    return pq.get()\n",
    "\n",
    "head = huffmanTree(file)"
   ]
  },
  {
   "cell_type": "code",
   "execution_count": 30,
   "metadata": {},
   "outputs": [
    {
     "name": "stdout",
     "output_type": "stream",
     "text": [
      "c 00\n",
      "a 010\n",
      "b 011\n",
      "d 1\n"
     ]
    }
   ],
   "source": [
    "mp = dict()\n",
    "def storeTree(node,bits=\"\"):\n",
    "    if not node.left and not node.right:\n",
    "        mp[node.char] = bits\n",
    "        print(node.char,bits)\n",
    "        return\n",
    "    storeTree(node.left,bits+'0')\n",
    "    storeTree(node.right,bits+'1')\n",
    "\n",
    "storeTree(head)"
   ]
  },
  {
   "cell_type": "code",
   "execution_count": 31,
   "metadata": {},
   "outputs": [],
   "source": [
    "def encodeString(mp,str):\n",
    "    encoded = \"\"\n",
    "    for char in str:\n",
    "        encoded+=mp[char]\n",
    "    return encoded\n",
    "\n",
    "encoded = encodeString(mp,file)"
   ]
  },
  {
   "attachments": {},
   "cell_type": "markdown",
   "metadata": {},
   "source": [
    "# Now decoding starts"
   ]
  },
  {
   "cell_type": "code",
   "execution_count": 32,
   "metadata": {},
   "outputs": [
    {
     "name": "stdout",
     "output_type": "stream",
     "text": [
      "aabbcccdddddddddddddddd\n"
     ]
    }
   ],
   "source": [
    "def decodeString(head,encoded):\n",
    "    tem = head\n",
    "    ans = \"\"\n",
    "    for bit in encoded:\n",
    "        if bit=='1': tem = tem.right\n",
    "        else: tem = tem.left\n",
    "\n",
    "        if not tem.left and not tem.right:\n",
    "            ans+=tem.char\n",
    "            tem = head\n",
    "    return ans\n",
    "\n",
    "print(decodeString(head,encoded))"
   ]
  },
  {
   "cell_type": "code",
   "execution_count": null,
   "metadata": {},
   "outputs": [],
   "source": []
  }
 ],
 "metadata": {
  "kernelspec": {
   "display_name": "base",
   "language": "python",
   "name": "python3"
  },
  "language_info": {
   "codemirror_mode": {
    "name": "ipython",
    "version": 3
   },
   "file_extension": ".py",
   "mimetype": "text/x-python",
   "name": "python",
   "nbconvert_exporter": "python",
   "pygments_lexer": "ipython3",
   "version": "3.9.12"
  },
  "orig_nbformat": 4,
  "vscode": {
   "interpreter": {
    "hash": "a22799ee5e5f0ceca5814875a3f5a99da28e4989824bab10b2685b91b7f80494"
   }
  }
 },
 "nbformat": 4,
 "nbformat_minor": 2
}
